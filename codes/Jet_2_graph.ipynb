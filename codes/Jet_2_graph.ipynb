{
  "cells": [
    {
      "cell_type": "markdown",
      "metadata": {
        "colab_type": "text",
        "id": "view-in-github"
      },
      "source": [
        "<a href=\"https://colab.research.google.com/github/sandeep1847e/MSc-Project/blob/main/codes/Jet_2_graph.ipynb\" target=\"_parent\"><img src=\"https://colab.research.google.com/assets/colab-badge.svg\" alt=\"Open In Colab\"/></a>"
      ]
    },
    {
      "cell_type": "code",
      "execution_count": 1,
      "metadata": {
        "collapsed": true,
        "id": "6gS6xu29wmPh"
      },
      "outputs": [],
      "source": [
        "# !pip install uproot\n",
        "# !pip install fastjet\n",
        "# !pip install awkward"
      ]
    },
    {
      "cell_type": "code",
      "execution_count": 7,
      "metadata": {},
      "outputs": [],
      "source": [
        "# refrences\n",
        "# https://scikit-learn.org/1.5/modules/generated/sklearn.preprocessing.MinMaxScaler.html\n",
        "# https://awkward-array.org/doc/main/\n",
        "# "
      ]
    },
    {
      "cell_type": "code",
      "execution_count": 1,
      "metadata": {
        "id": "OAeYh9AW5yn3"
      },
      "outputs": [],
      "source": [
        "import uproot\n",
        "import fastjet as fj\n",
        "import numpy as np\n",
        "import awkward as ak\n",
        "\n",
        "import pandas as pd\n",
        "import numpy as np\n",
        "import networkx as nx\n",
        "import matplotlib.pyplot as plt"
      ]
    },
    {
      "cell_type": "code",
      "execution_count": null,
      "metadata": {
        "colab": {
          "base_uri": "https://localhost:8080/"
        },
        "id": "sXo9-BYFfaY9",
        "outputId": "76d8eeb2-9a2e-4458-c104-880a21158ae1"
      },
      "outputs": [],
      "source": [
        "import requests\n",
        "\n",
        "# URL of the .root file\n",
        "url = \"https://github.com/sandeep1847e/MSc-Project/blob/main/Events/pp24tops100E.root?raw=true\"\n",
        "\n",
        "# Download the file\n",
        "response = requests.get(url)\n",
        "with open(\"pp24tops100E.root\", \"wb\") as file:\n",
        "    file.write(response.content)\n",
        "\n",
        "print(\"Download complete!\")\n"
      ]
    },
    {
      "cell_type": "code",
      "execution_count": null,
      "metadata": {
        "colab": {
          "base_uri": "https://localhost:8080/"
        },
        "id": "AT1kNRJsNmvI",
        "outputId": "3a2ca3e3-1aca-45d4-a910-dae21d43dfdc"
      },
      "outputs": [],
      "source": [
        "file = uproot.open(\"pp24tops100E.root\")\n",
        "print(file.keys())\n",
        "tree = file[\"Delphes;1\"]\n",
        "print(tree.keys())\n"
      ]
    },
    {
      "cell_type": "code",
      "execution_count": 5,
      "metadata": {
        "collapsed": true,
        "id": "MXwO2u73wlF-"
      },
      "outputs": [],
      "source": [
        "\n",
        "# Open the ROOT file using uproot\n",
        "# # file = uproot.open(\"pp24tops100E.root\")\n",
        "# file = uproot.open(\"/home/sandeep/Desktop/project/root/pp24tops100E.root\")\n",
        "\n",
        "# tree = file[\"Delphes;1\"]\n",
        "# tree.keys()"
      ]
    },
    {
      "cell_type": "code",
      "execution_count": 6,
      "metadata": {
        "id": "xfA0t2Ate1eS"
      },
      "outputs": [],
      "source": [
        "# # Access the Jet branch\n",
        "# jets = tree[\"Jet\"].arrays()\n",
        "# print(jets)\n",
        "# len(jets)\n"
      ]
    },
    {
      "cell_type": "code",
      "execution_count": 4,
      "metadata": {
        "id": "0Zz-q8vtldM_"
      },
      "outputs": [],
      "source": [
        "jet=tree['Jet'].arrays()\n",
        "# len(jet)"
      ]
    },
    {
      "cell_type": "code",
      "execution_count": 5,
      "metadata": {
        "id": "TsRUip0q6Z7t"
      },
      "outputs": [],
      "source": [
        "jet_pt=jet['Jet.PT']\n",
        "jet_eta=jet['Jet.Eta']\n",
        "jet_phi=jet['Jet.Phi']\n",
        "jet_mass=jet['Jet.Mass']\n",
        "# jet_pt\n",
        "# len(jet_pt)"
      ]
    },
    {
      "cell_type": "code",
      "execution_count": null,
      "metadata": {
        "colab": {
          "base_uri": "https://localhost:8080/"
        },
        "id": "IQT7iN2MK1kc",
        "outputId": "46ff80da-efa2-41e8-9b34-2e6d03b6be59"
      },
      "outputs": [],
      "source": [
        "print(len(jet_pt[0]))\n",
        "print(len(jet_eta[0]))\n",
        "print(len(jet_phi[0]))\n"
      ]
    },
    {
      "cell_type": "code",
      "execution_count": 10,
      "metadata": {
        "collapsed": true,
        "id": "rG-r_qyS6eGT"
      },
      "outputs": [],
      "source": [
        "# j=0\n",
        "# for i in range(len(jet_pt)):\n",
        "#   j+=1\n",
        "#   print(i)\n",
        "#   print(jet_pt[i])"
      ]
    },
    {
      "cell_type": "markdown",
      "metadata": {
        "id": "fuV5ANc27zBf"
      },
      "source": []
    },
    {
      "cell_type": "code",
      "execution_count": 11,
      "metadata": {
        "collapsed": true,
        "id": "mtqfAg0z63LF"
      },
      "outputs": [],
      "source": [
        "# for i, jets in enumerate(jet_pt):\n",
        "#     print(f\"Event {i+1} Jets (pT):\")\n",
        "#     for j, pt in enumerate(jets):\n",
        "#         print(f\"  Jet {j+1}: {pt} GeV\")\n",
        "#     print(\"-\" * 30)\n",
        "\n",
        "\n"
      ]
    },
    {
      "cell_type": "code",
      "execution_count": null,
      "metadata": {
        "colab": {
          "base_uri": "https://localhost:8080/"
        },
        "id": "JYXsGkf0Myk7",
        "outputId": "358f8407-192f-407b-d209-4b5cd47825d4"
      },
      "outputs": [],
      "source": [
        "import pandas as pd\n",
        "dataframes = []\n",
        "\n",
        "# Looping through each event\n",
        "for event_no, (jets_pt, jets_eta, jets_phi,jet_mass) in enumerate(zip(jet_pt, jet_eta, jet_phi,jet_mass), start=1):\n",
        "    # Create a DataFrame for each event\n",
        "    event_df = pd.DataFrame({\n",
        "        'event_no': [event_no] * len(jets_pt),  # Event number for each jet\n",
        "        'jet_no': list(range(1, len(jets_pt) + 1)),  # Jet number\n",
        "        'jet_pt': jets_pt,  # Jet transverse momentum\n",
        "        'jet_eta': jets_eta,  # Jet pseudorapidity\n",
        "        'jet_phi': jets_phi,   # Jet azimuthal angle\n",
        "        'jet_mass':jet_mass   #Jet mass\n",
        "    })\n",
        "    # print(event_df)\n",
        "    # Append the event DataFrame to the list\n",
        "    dataframes.append(event_df)\n",
        "\n",
        "# Concatenating all DataFrames into a single DataFrame\n",
        "final_df = pd.concat(dataframes, ignore_index=True)\n",
        "print(final_df)"
      ]
    },
    {
      "cell_type": "code",
      "execution_count": null,
      "metadata": {
        "colab": {
          "base_uri": "https://localhost:8080/"
        },
        "id": "27JYfvZZkO6G",
        "outputId": "1759672a-8be9-46e6-dc7b-5cd47ab7579e"
      },
      "outputs": [],
      "source": [
        "len(final_df)"
      ]
    },
    {
      "cell_type": "code",
      "execution_count": 14,
      "metadata": {
        "id": "VC7SiJqglbL0"
      },
      "outputs": [],
      "source": [
        "# distance_threshold=300\n",
        "# all_graphs = []\n",
        "\n",
        "# for event_no in final_df['event_no'].unique():\n",
        "#     event_data = final_df[final_df['event_no'] == event_no]\n",
        "#     G_event = nx.Graph()\n",
        "\n",
        "#     # Add nodes for each jet in the event\n",
        "#     for idx, row in event_data.iterrows():\n",
        "#         G_event.add_node(row['jet_no'], pt=row['jet_pt'], eta=row['jet_eta'], phi=row['jet_phi'])\n",
        "\n",
        "#     # Add edges based on distance\n",
        "#     for i in range(len(event_data)):\n",
        "#         for j in range(i + 1, len(event_data)):\n",
        "#             # Calculate distance (using pt, eta, phi)\n",
        "#             pt1, eta1, phi1 = event_data.iloc[i][['jet_pt', 'jet_eta', 'jet_phi']]\n",
        "#             pt2, eta2, phi2 = event_data.iloc[j][['jet_pt', 'jet_eta', 'jet_phi']]\n",
        "#             distance = ((eta1 - eta2)**2 + (phi1 - phi2)**2 + (pt1 - pt2)**2)**0.5  # Example metric\n",
        "\n",
        "#             if distance < distance_threshold:\n",
        "#                 G_event.add_edge(event_data.iloc[i]['jet_no'], event_data.iloc[j]['jet_no'])\n",
        "\n",
        "#     all_graphs.append(G_event)\n",
        "\n",
        "# # Now `all_graphs` contains separate graphs for each event\n"
      ]
    },
    {
      "cell_type": "code",
      "execution_count": 15,
      "metadata": {
        "collapsed": true,
        "id": "JlkUWlWblqJu"
      },
      "outputs": [],
      "source": [
        "# for i, G_event in enumerate(all_graphs[1:31]):\n",
        "#     plt.figure(figsize=(4, 4))\n",
        "#     pos = nx.spring_layout(G_event)\n",
        "#     nx.draw(G_event, pos, with_labels=True, node_size=50, node_color='blue', edge_color='gray', alpha=0.5)\n",
        "#     plt.title(f'Jet Connectivity Graph for Event {i+1}')\n",
        "#     plt.show()\n"
      ]
    },
    {
      "cell_type": "code",
      "execution_count": 20,
      "metadata": {
        "id": "Y2NgLKfdtJl6"
      },
      "outputs": [],
      "source": [
        "jet_pt=jet['Jet.PT']\n",
        "jet_eta=jet['Jet.Eta']\n",
        "jet_phi=jet['Jet.Phi']\n",
        "jet_mass=jet['Jet.Mass']\n",
        "\n"
      ]
    },
    {
      "cell_type": "code",
      "execution_count": 21,
      "metadata": {
        "collapsed": true,
        "id": "h-WGyVIzlqoI"
      },
      "outputs": [],
      "source": [
        "\n",
        "from sklearn.preprocessing import MinMaxScaler\n",
        "\n",
        "dataframes = []\n",
        "\n",
        "# Looping through each event\n",
        "for event_no, (jets_pt, jets_eta, jets_phi, jet_mass) in enumerate(zip(jet_pt, jet_eta, jet_phi, jet_mass), start=1):\n",
        "    # Create a DataFrame for each event\n",
        "    event_df = pd.DataFrame({\n",
        "        'event_no': [event_no] * len(jets_pt),  # Event number for each jet\n",
        "        'jet_no': list(range(1, len(jets_pt) + 1)),  # Jet number\n",
        "        'jet_pt': jets_pt,  # Jet transverse momentum\n",
        "        'jet_eta': jets_eta,  # Jet pseudorapidity\n",
        "        'jet_phi': jets_phi,  # Jet azimuthal angle\n",
        "        'jet_mass': jet_mass  # Jet mass\n",
        "    })\n",
        "    dataframes.append(event_df)\n",
        "\n",
        "# Concatenating all DataFrames into a single DataFrame\n",
        "final_df = pd.concat(dataframes, ignore_index=True)\n",
        "\n",
        "# Normalize jet properties\n",
        "scaler = MinMaxScaler()\n",
        "final_df[['jet_pt', 'jet_eta', 'jet_phi','jet_mass']] = scaler.fit_transform(final_df[['jet_pt', 'jet_eta', 'jet_phi','jet_mass']])\n",
        "\n",
        "distance_threshold = 0.5  \n",
        "all_graphs = []\n",
        "\n",
        "for event_no in final_df['event_no'].unique():\n",
        "    event_data = final_df[final_df['event_no'] == event_no]\n",
        "    G_event = nx.Graph()\n",
        "\n",
        "    # Add nodes for each jet in the event\n",
        "    for idx, row in event_data.iterrows():\n",
        "        G_event.add_node(row['jet_no'], pt=row['jet_pt'], eta=row['jet_eta'], phi=row['jet_phi'])\n",
        "\n",
        "    # Add edges based on distance\n",
        "    for i in range(len(event_data)):\n",
        "        for j in range(i + 1, len(event_data)):\n",
        "            # Calculate distance (using normalized pt, eta, phi)\n",
        "            pt1, eta1, phi1 = event_data.iloc[i][['jet_pt', 'jet_eta', 'jet_phi']]\n",
        "            pt2, eta2, phi2 = event_data.iloc[j][['jet_pt', 'jet_eta', 'jet_phi']]\n",
        "            distance = ((eta1 - eta2)**2 + (phi1 - phi2)**2 + (pt1 - pt2)**2)**0.5\n",
        "\n",
        "            if distance < distance_threshold:\n",
        "                G_event.add_edge(event_data.iloc[i]['jet_no'], event_data.iloc[j]['jet_no'])\n",
        "\n",
        "    all_graphs.append(G_event)\n"
      ]
    },
    {
      "cell_type": "code",
      "execution_count": 17,
      "metadata": {
        "id": "h--Rf-1ztFu1"
      },
      "outputs": [],
      "source": []
    },
    {
      "cell_type": "code",
      "execution_count": null,
      "metadata": {
        "colab": {
          "base_uri": "https://localhost:8080/",
          "height": 1000
        },
        "id": "BFt4i5Sdshkl",
        "outputId": "b0a688d6-49a8-4407-f11a-a8d5d3e0c267"
      },
      "outputs": [],
      "source": [
        "# Now `all_graphs` contains separate graphs for each event\n",
        "for i, G_event in enumerate(all_graphs[0:6]):\n",
        "    plt.figure(figsize=(6,4))\n",
        "    pos = nx.spring_layout(G_event)\n",
        "    node_sizes = [G_event.degree(n) * 100 for n in G_event.nodes()]  # Adjust node size by degree\n",
        "    node_colors = [G_event.nodes[n]['pt'] for n in G_event.nodes()]  # Color nodes by pt\n",
        "\n",
        "    # Draw edges\n",
        "    nx.draw_networkx_edges(G_event, pos, alpha=0.5, edge_color='gray')\n",
        "\n",
        "    # Draw labels\n",
        "    nx.draw_networkx_labels(G_event, pos)\n",
        "    plt.title(f'Jet Connectivity Graph for Event {i+1}')\n",
        "\n",
        "plt.show()"
      ]
    },
    {
      "cell_type": "code",
      "execution_count": 25,
      "metadata": {
        "id": "SVoMoTL-GWrw"
      },
      "outputs": [],
      "source": [
        "for G_event in all_graphs:\n",
        "    # Create and attach the adjacency matrix as an attribute to the graph\n",
        "    G_event.graph['adjacency_matrix'] = nx.to_numpy_array(G_event, nodelist=sorted(G_event.nodes()), weight=\"weight\")\n"
      ]
    },
    {
      "cell_type": "code",
      "execution_count": 27,
      "metadata": {},
      "outputs": [
        {
          "name": "stdout",
          "output_type": "stream",
          "text": [
            "[[0. 1. 0. 0. 1. 1. 1. 0. 1. 0. 1. 1.]\n",
            " [1. 0. 0. 1. 1. 1. 1. 1. 1. 1. 1. 1.]\n",
            " [0. 0. 0. 1. 0. 0. 0. 1. 1. 1. 0. 0.]\n",
            " [0. 1. 1. 0. 0. 0. 0. 1. 1. 1. 0. 0.]\n",
            " [1. 1. 0. 0. 0. 1. 1. 0. 0. 0. 1. 1.]\n",
            " [1. 1. 0. 0. 1. 0. 1. 1. 1. 1. 1. 1.]\n",
            " [1. 1. 0. 0. 1. 1. 0. 0. 1. 0. 1. 1.]\n",
            " [0. 1. 1. 1. 0. 1. 0. 0. 1. 1. 1. 0.]\n",
            " [1. 1. 1. 1. 0. 1. 1. 1. 0. 1. 1. 0.]\n",
            " [0. 1. 1. 1. 0. 1. 0. 1. 1. 0. 1. 0.]\n",
            " [1. 1. 0. 0. 1. 1. 1. 1. 1. 1. 0. 1.]\n",
            " [1. 1. 0. 0. 1. 1. 1. 0. 0. 0. 1. 0.]]\n",
            "[[0. 0. 0. 1. 1. 1. 1. 0. 1. 0. 1. 1.]\n",
            " [0. 0. 1. 1. 0. 1. 0. 1. 1. 1. 0. 1.]\n",
            " [0. 1. 0. 1. 0. 1. 0. 1. 0. 1. 0. 1.]\n",
            " [1. 1. 1. 0. 0. 1. 0. 1. 1. 1. 1. 1.]\n",
            " [1. 0. 0. 0. 0. 1. 1. 0. 1. 0. 1. 0.]\n",
            " [1. 1. 1. 1. 1. 0. 1. 1. 1. 1. 1. 1.]\n",
            " [1. 0. 0. 0. 1. 1. 0. 0. 1. 0. 1. 0.]\n",
            " [0. 1. 1. 1. 0. 1. 0. 0. 1. 1. 0. 1.]\n",
            " [1. 1. 0. 1. 1. 1. 1. 1. 0. 1. 1. 1.]\n",
            " [0. 1. 1. 1. 0. 1. 0. 1. 1. 0. 1. 1.]\n",
            " [1. 0. 0. 1. 1. 1. 1. 0. 1. 1. 0. 1.]\n",
            " [1. 1. 1. 1. 0. 1. 0. 1. 1. 1. 1. 0.]]\n",
            "[[0. 0. 0. 1. 1. 0. 0. 0. 0.]\n",
            " [0. 0. 1. 0. 1. 1. 0. 1. 1.]\n",
            " [0. 1. 0. 0. 0. 1. 0. 0. 0.]\n",
            " [1. 0. 0. 0. 1. 0. 0. 1. 1.]\n",
            " [1. 1. 0. 1. 0. 0. 1. 1. 1.]\n",
            " [0. 1. 1. 0. 0. 0. 1. 1. 1.]\n",
            " [0. 0. 0. 0. 1. 1. 0. 1. 1.]\n",
            " [0. 1. 0. 1. 1. 1. 1. 0. 1.]\n",
            " [0. 1. 0. 1. 1. 1. 1. 1. 0.]]\n",
            "[[0. 1. 0. 0. 0. 0. 1. 1. 1.]\n",
            " [1. 0. 1. 1. 1. 1. 1. 1. 1.]\n",
            " [0. 1. 0. 1. 1. 1. 0. 0. 0.]\n",
            " [0. 1. 1. 0. 1. 1. 0. 1. 1.]\n",
            " [0. 1. 1. 1. 0. 1. 0. 1. 1.]\n",
            " [0. 1. 1. 1. 1. 0. 0. 0. 0.]\n",
            " [1. 1. 0. 0. 0. 0. 0. 1. 0.]\n",
            " [1. 1. 0. 1. 1. 0. 1. 0. 1.]\n",
            " [1. 1. 0. 1. 1. 0. 0. 1. 0.]]\n",
            "[[0. 0. 0. 1. 0. 0.]\n",
            " [0. 0. 1. 0. 1. 1.]\n",
            " [0. 1. 0. 0. 1. 1.]\n",
            " [1. 0. 0. 0. 0. 1.]\n",
            " [0. 1. 1. 0. 0. 1.]\n",
            " [0. 1. 1. 1. 1. 0.]]\n",
            "[[0. 0. 0. 0. 0. 0. 0. 0. 0. 0. 0. 0.]\n",
            " [0. 0. 1. 1. 1. 1. 1. 1. 1. 1. 1. 1.]\n",
            " [0. 1. 0. 1. 1. 1. 1. 1. 1. 1. 1. 1.]\n",
            " [0. 1. 1. 0. 1. 1. 1. 0. 1. 1. 0. 1.]\n",
            " [0. 1. 1. 1. 0. 1. 1. 1. 1. 1. 0. 1.]\n",
            " [0. 1. 1. 1. 1. 0. 1. 1. 1. 1. 1. 1.]\n",
            " [0. 1. 1. 1. 1. 1. 0. 1. 1. 1. 1. 1.]\n",
            " [0. 1. 1. 0. 1. 1. 1. 0. 1. 1. 1. 1.]\n",
            " [0. 1. 1. 1. 1. 1. 1. 1. 0. 1. 0. 1.]\n",
            " [0. 1. 1. 1. 1. 1. 1. 1. 1. 0. 0. 1.]\n",
            " [0. 1. 1. 0. 0. 1. 1. 1. 0. 0. 0. 0.]\n",
            " [0. 1. 1. 1. 1. 1. 1. 1. 1. 1. 0. 0.]]\n",
            "[[0. 0. 1. 1. 0. 0. 0. 1. 1. 0. 1. 0.]\n",
            " [0. 0. 1. 0. 1. 1. 1. 1. 1. 1. 0. 1.]\n",
            " [1. 1. 0. 1. 1. 1. 1. 1. 1. 1. 1. 1.]\n",
            " [1. 0. 1. 0. 0. 1. 1. 1. 1. 1. 1. 1.]\n",
            " [0. 1. 1. 0. 0. 1. 1. 0. 1. 1. 0. 1.]\n",
            " [0. 1. 1. 1. 1. 0. 1. 1. 1. 1. 0. 1.]\n",
            " [0. 1. 1. 1. 1. 1. 0. 1. 1. 1. 0. 1.]\n",
            " [1. 1. 1. 1. 0. 1. 1. 0. 1. 1. 1. 1.]\n",
            " [1. 1. 1. 1. 1. 1. 1. 1. 0. 1. 1. 1.]\n",
            " [0. 1. 1. 1. 1. 1. 1. 1. 1. 0. 1. 1.]\n",
            " [1. 0. 1. 1. 0. 0. 0. 1. 1. 1. 0. 1.]\n",
            " [0. 1. 1. 1. 1. 1. 1. 1. 1. 1. 1. 0.]]\n",
            "[[0. 1. 0. 0. 1. 0. 0. 0. 1. 0. 1. 1. 0.]\n",
            " [1. 0. 1. 1. 1. 1. 0. 1. 1. 0. 1. 1. 1.]\n",
            " [0. 1. 0. 1. 0. 1. 1. 1. 1. 1. 0. 1. 1.]\n",
            " [0. 1. 1. 0. 0. 1. 0. 1. 1. 1. 1. 1. 1.]\n",
            " [1. 1. 0. 0. 0. 0. 0. 0. 1. 0. 1. 1. 0.]\n",
            " [0. 1. 1. 1. 0. 0. 1. 1. 1. 1. 0. 0. 1.]\n",
            " [0. 0. 1. 0. 0. 1. 0. 1. 0. 1. 0. 0. 1.]\n",
            " [0. 1. 1. 1. 0. 1. 1. 0. 1. 1. 0. 1. 1.]\n",
            " [1. 1. 1. 1. 1. 1. 0. 1. 0. 0. 1. 1. 1.]\n",
            " [0. 0. 1. 1. 0. 1. 1. 1. 0. 0. 0. 0. 1.]\n",
            " [1. 1. 0. 1. 1. 0. 0. 0. 1. 0. 0. 1. 0.]\n",
            " [1. 1. 1. 1. 1. 0. 0. 1. 1. 0. 1. 0. 1.]\n",
            " [0. 1. 1. 1. 0. 1. 1. 1. 1. 1. 0. 1. 0.]]\n",
            "[[0. 1. 0. 0. 0. 0. 0. 0.]\n",
            " [1. 0. 1. 1. 1. 0. 0. 0.]\n",
            " [0. 1. 0. 1. 1. 1. 1. 0.]\n",
            " [0. 1. 1. 0. 1. 1. 1. 1.]\n",
            " [0. 1. 1. 1. 0. 0. 0. 0.]\n",
            " [0. 0. 1. 1. 0. 0. 1. 1.]\n",
            " [0. 0. 1. 1. 0. 1. 0. 1.]\n",
            " [0. 0. 0. 1. 0. 1. 1. 0.]]\n",
            "[[0. 0. 0. 0. 1. 0. 1. 1. 1. 0. 0. 0.]\n",
            " [0. 0. 1. 1. 1. 1. 0. 0. 1. 1. 1. 1.]\n",
            " [0. 1. 0. 1. 1. 1. 0. 1. 1. 1. 1. 1.]\n",
            " [0. 1. 1. 0. 1. 1. 1. 1. 1. 1. 1. 1.]\n",
            " [1. 1. 1. 1. 0. 0. 1. 1. 1. 1. 1. 1.]\n",
            " [0. 1. 1. 1. 0. 0. 0. 0. 1. 1. 1. 1.]\n",
            " [1. 0. 0. 1. 1. 0. 0. 1. 1. 0. 0. 0.]\n",
            " [1. 0. 1. 1. 1. 0. 1. 0. 1. 0. 0. 1.]\n",
            " [1. 1. 1. 1. 1. 1. 1. 1. 0. 1. 1. 1.]\n",
            " [0. 1. 1. 1. 1. 1. 0. 0. 1. 0. 1. 1.]\n",
            " [0. 1. 1. 1. 1. 1. 0. 0. 1. 1. 0. 1.]\n",
            " [0. 1. 1. 1. 1. 1. 0. 1. 1. 1. 1. 0.]]\n",
            "[[0. 0. 1. 1. 0. 1. 1. 1. 0. 1. 0.]\n",
            " [0. 0. 1. 1. 1. 0. 1. 1. 1. 1. 0.]\n",
            " [1. 1. 0. 1. 1. 0. 1. 1. 1. 1. 0.]\n",
            " [1. 1. 1. 0. 1. 1. 1. 1. 0. 1. 1.]\n",
            " [0. 1. 1. 1. 0. 0. 0. 1. 1. 1. 0.]\n",
            " [1. 0. 0. 1. 0. 0. 1. 1. 0. 1. 0.]\n",
            " [1. 1. 1. 1. 0. 1. 0. 1. 0. 1. 0.]\n",
            " [1. 1. 1. 1. 1. 1. 1. 0. 0. 1. 0.]\n",
            " [0. 1. 1. 0. 1. 0. 0. 0. 0. 0. 0.]\n",
            " [1. 1. 1. 1. 1. 1. 1. 1. 0. 0. 0.]\n",
            " [0. 0. 0. 1. 0. 0. 0. 0. 0. 0. 0.]]\n",
            "[[0. 1. 0. 0. 0. 1. 1. 1.]\n",
            " [1. 0. 1. 1. 1. 1. 1. 1.]\n",
            " [0. 1. 0. 1. 1. 1. 1. 1.]\n",
            " [0. 1. 1. 0. 1. 0. 0. 0.]\n",
            " [0. 1. 1. 1. 0. 1. 0. 0.]\n",
            " [1. 1. 1. 0. 1. 0. 1. 1.]\n",
            " [1. 1. 1. 0. 0. 1. 0. 1.]\n",
            " [1. 1. 1. 0. 0. 1. 1. 0.]]\n",
            "[[0. 1. 0. 1. 0. 0. 1. 0. 0. 0. 1. 0. 1. 1.]\n",
            " [1. 0. 1. 1. 1. 1. 1. 0. 0. 1. 1. 0. 1. 1.]\n",
            " [0. 1. 0. 0. 1. 1. 1. 1. 1. 1. 1. 1. 1. 0.]\n",
            " [1. 1. 0. 0. 0. 1. 1. 0. 0. 0. 1. 0. 1. 1.]\n",
            " [0. 1. 1. 0. 0. 1. 1. 1. 1. 1. 1. 1. 1. 0.]\n",
            " [0. 1. 1. 1. 1. 0. 1. 1. 0. 1. 1. 1. 1. 1.]\n",
            " [1. 1. 1. 1. 1. 1. 0. 1. 0. 1. 1. 1. 1. 1.]\n",
            " [0. 0. 1. 0. 1. 1. 1. 0. 1. 1. 0. 1. 0. 0.]\n",
            " [0. 0. 1. 0. 1. 0. 0. 1. 0. 1. 0. 1. 0. 0.]\n",
            " [0. 1. 1. 0. 1. 1. 1. 1. 1. 0. 0. 1. 0. 0.]\n",
            " [1. 1. 1. 1. 1. 1. 1. 0. 0. 0. 0. 0. 1. 1.]\n",
            " [0. 0. 1. 0. 1. 1. 1. 1. 1. 1. 0. 0. 0. 0.]\n",
            " [1. 1. 1. 1. 1. 1. 1. 0. 0. 0. 1. 0. 0. 1.]\n",
            " [1. 1. 0. 1. 0. 1. 1. 0. 0. 0. 1. 0. 1. 0.]]\n",
            "[[0. 0. 1. 1. 1. 1. 1. 1. 1. 1.]\n",
            " [0. 0. 1. 1. 0. 1. 0. 1. 0. 0.]\n",
            " [1. 1. 0. 1. 0. 1. 1. 1. 0. 1.]\n",
            " [1. 1. 1. 0. 0. 1. 1. 1. 0. 1.]\n",
            " [1. 0. 0. 0. 0. 1. 1. 0. 1. 1.]\n",
            " [1. 1. 1. 1. 1. 0. 1. 1. 1. 1.]\n",
            " [1. 0. 1. 1. 1. 1. 0. 1. 1. 1.]\n",
            " [1. 1. 1. 1. 0. 1. 1. 0. 0. 1.]\n",
            " [1. 0. 0. 0. 1. 1. 1. 0. 0. 1.]\n",
            " [1. 0. 1. 1. 1. 1. 1. 1. 1. 0.]]\n",
            "[[0. 0. 1. 0. 1. 0. 0. 0.]\n",
            " [0. 0. 0. 1. 0. 1. 1. 0.]\n",
            " [1. 0. 0. 1. 1. 1. 0. 1.]\n",
            " [0. 1. 1. 0. 1. 1. 0. 1.]\n",
            " [1. 0. 1. 1. 0. 1. 0. 1.]\n",
            " [0. 1. 1. 1. 1. 0. 0. 1.]\n",
            " [0. 1. 0. 0. 0. 0. 0. 0.]\n",
            " [0. 0. 1. 1. 1. 1. 0. 0.]]\n"
          ]
        }
      ],
      "source": [
        "for G_event in all_graphs[0:15]:\n",
        "    adjacency_matrix = G_event.graph['adjacency_matrix']\n",
        "    print(adjacency_matrix)\n"
      ]
    },
    {
      "cell_type": "code",
      "execution_count": 28,
      "metadata": {},
      "outputs": [],
      "source": [
        "import numpy as np\n",
        "\n",
        "# Step 1: Determine the maximum number of jets in any event\n",
        "max_jets = max(len(G_event.nodes) for G_event in all_graphs)\n",
        "\n",
        "# Step 2: Pad each adjacency matrix to match the max_jets dimension\n",
        "padded_adjacency_matrices = []\n",
        "\n",
        "for G_event in all_graphs:\n",
        "    # Get the adjacency matrix for the current graph\n",
        "    adjacency_matrix = nx.to_numpy_array(G_event, nodelist=sorted(G_event.nodes()), weight=\"weight\")\n",
        "    \n",
        "    # Get the current number of jets for this event\n",
        "    num_jets = adjacency_matrix.shape[0]\n",
        "    \n",
        "    # If the matrix is smaller than max_jets, pad it\n",
        "    if num_jets < max_jets:\n",
        "        padded_matrix = np.zeros((max_jets, max_jets))\n",
        "        padded_matrix[:num_jets, :num_jets] = adjacency_matrix\n",
        "    else:\n",
        "        padded_matrix = adjacency_matrix\n",
        "    \n",
        "    padded_adjacency_matrices.append(padded_matrix)\n",
        "\n",
        "# Now `padded_adjacency_matrices` contains square matrices of shape (max_jets, max_jets) for each event\n"
      ]
    },
    {
      "cell_type": "code",
      "execution_count": 29,
      "metadata": {},
      "outputs": [
        {
          "data": {
            "text/plain": [
              "[array([[0., 1., 0., 0., 1., 1., 1., 0., 1., 0., 1., 1., 0., 0.],\n",
              "        [1., 0., 0., 1., 1., 1., 1., 1., 1., 1., 1., 1., 0., 0.],\n",
              "        [0., 0., 0., 1., 0., 0., 0., 1., 1., 1., 0., 0., 0., 0.],\n",
              "        [0., 1., 1., 0., 0., 0., 0., 1., 1., 1., 0., 0., 0., 0.],\n",
              "        [1., 1., 0., 0., 0., 1., 1., 0., 0., 0., 1., 1., 0., 0.],\n",
              "        [1., 1., 0., 0., 1., 0., 1., 1., 1., 1., 1., 1., 0., 0.],\n",
              "        [1., 1., 0., 0., 1., 1., 0., 0., 1., 0., 1., 1., 0., 0.],\n",
              "        [0., 1., 1., 1., 0., 1., 0., 0., 1., 1., 1., 0., 0., 0.],\n",
              "        [1., 1., 1., 1., 0., 1., 1., 1., 0., 1., 1., 0., 0., 0.],\n",
              "        [0., 1., 1., 1., 0., 1., 0., 1., 1., 0., 1., 0., 0., 0.],\n",
              "        [1., 1., 0., 0., 1., 1., 1., 1., 1., 1., 0., 1., 0., 0.],\n",
              "        [1., 1., 0., 0., 1., 1., 1., 0., 0., 0., 1., 0., 0., 0.],\n",
              "        [0., 0., 0., 0., 0., 0., 0., 0., 0., 0., 0., 0., 0., 0.],\n",
              "        [0., 0., 0., 0., 0., 0., 0., 0., 0., 0., 0., 0., 0., 0.]]),\n",
              " array([[0., 0., 0., 1., 1., 1., 1., 0., 1., 0., 1., 1., 0., 0.],\n",
              "        [0., 0., 1., 1., 0., 1., 0., 1., 1., 1., 0., 1., 0., 0.],\n",
              "        [0., 1., 0., 1., 0., 1., 0., 1., 0., 1., 0., 1., 0., 0.],\n",
              "        [1., 1., 1., 0., 0., 1., 0., 1., 1., 1., 1., 1., 0., 0.],\n",
              "        [1., 0., 0., 0., 0., 1., 1., 0., 1., 0., 1., 0., 0., 0.],\n",
              "        [1., 1., 1., 1., 1., 0., 1., 1., 1., 1., 1., 1., 0., 0.],\n",
              "        [1., 0., 0., 0., 1., 1., 0., 0., 1., 0., 1., 0., 0., 0.],\n",
              "        [0., 1., 1., 1., 0., 1., 0., 0., 1., 1., 0., 1., 0., 0.],\n",
              "        [1., 1., 0., 1., 1., 1., 1., 1., 0., 1., 1., 1., 0., 0.],\n",
              "        [0., 1., 1., 1., 0., 1., 0., 1., 1., 0., 1., 1., 0., 0.],\n",
              "        [1., 0., 0., 1., 1., 1., 1., 0., 1., 1., 0., 1., 0., 0.],\n",
              "        [1., 1., 1., 1., 0., 1., 0., 1., 1., 1., 1., 0., 0., 0.],\n",
              "        [0., 0., 0., 0., 0., 0., 0., 0., 0., 0., 0., 0., 0., 0.],\n",
              "        [0., 0., 0., 0., 0., 0., 0., 0., 0., 0., 0., 0., 0., 0.]]),\n",
              " array([[0., 0., 0., 1., 1., 0., 0., 0., 0., 0., 0., 0., 0., 0.],\n",
              "        [0., 0., 1., 0., 1., 1., 0., 1., 1., 0., 0., 0., 0., 0.],\n",
              "        [0., 1., 0., 0., 0., 1., 0., 0., 0., 0., 0., 0., 0., 0.],\n",
              "        [1., 0., 0., 0., 1., 0., 0., 1., 1., 0., 0., 0., 0., 0.],\n",
              "        [1., 1., 0., 1., 0., 0., 1., 1., 1., 0., 0., 0., 0., 0.],\n",
              "        [0., 1., 1., 0., 0., 0., 1., 1., 1., 0., 0., 0., 0., 0.],\n",
              "        [0., 0., 0., 0., 1., 1., 0., 1., 1., 0., 0., 0., 0., 0.],\n",
              "        [0., 1., 0., 1., 1., 1., 1., 0., 1., 0., 0., 0., 0., 0.],\n",
              "        [0., 1., 0., 1., 1., 1., 1., 1., 0., 0., 0., 0., 0., 0.],\n",
              "        [0., 0., 0., 0., 0., 0., 0., 0., 0., 0., 0., 0., 0., 0.],\n",
              "        [0., 0., 0., 0., 0., 0., 0., 0., 0., 0., 0., 0., 0., 0.],\n",
              "        [0., 0., 0., 0., 0., 0., 0., 0., 0., 0., 0., 0., 0., 0.],\n",
              "        [0., 0., 0., 0., 0., 0., 0., 0., 0., 0., 0., 0., 0., 0.],\n",
              "        [0., 0., 0., 0., 0., 0., 0., 0., 0., 0., 0., 0., 0., 0.]]),\n",
              " array([[0., 1., 0., 0., 0., 0., 1., 1., 1., 0., 0., 0., 0., 0.],\n",
              "        [1., 0., 1., 1., 1., 1., 1., 1., 1., 0., 0., 0., 0., 0.],\n",
              "        [0., 1., 0., 1., 1., 1., 0., 0., 0., 0., 0., 0., 0., 0.],\n",
              "        [0., 1., 1., 0., 1., 1., 0., 1., 1., 0., 0., 0., 0., 0.],\n",
              "        [0., 1., 1., 1., 0., 1., 0., 1., 1., 0., 0., 0., 0., 0.],\n",
              "        [0., 1., 1., 1., 1., 0., 0., 0., 0., 0., 0., 0., 0., 0.],\n",
              "        [1., 1., 0., 0., 0., 0., 0., 1., 0., 0., 0., 0., 0., 0.],\n",
              "        [1., 1., 0., 1., 1., 0., 1., 0., 1., 0., 0., 0., 0., 0.],\n",
              "        [1., 1., 0., 1., 1., 0., 0., 1., 0., 0., 0., 0., 0., 0.],\n",
              "        [0., 0., 0., 0., 0., 0., 0., 0., 0., 0., 0., 0., 0., 0.],\n",
              "        [0., 0., 0., 0., 0., 0., 0., 0., 0., 0., 0., 0., 0., 0.],\n",
              "        [0., 0., 0., 0., 0., 0., 0., 0., 0., 0., 0., 0., 0., 0.],\n",
              "        [0., 0., 0., 0., 0., 0., 0., 0., 0., 0., 0., 0., 0., 0.],\n",
              "        [0., 0., 0., 0., 0., 0., 0., 0., 0., 0., 0., 0., 0., 0.]]),\n",
              " array([[0., 0., 0., 1., 0., 0., 0., 0., 0., 0., 0., 0., 0., 0.],\n",
              "        [0., 0., 1., 0., 1., 1., 0., 0., 0., 0., 0., 0., 0., 0.],\n",
              "        [0., 1., 0., 0., 1., 1., 0., 0., 0., 0., 0., 0., 0., 0.],\n",
              "        [1., 0., 0., 0., 0., 1., 0., 0., 0., 0., 0., 0., 0., 0.],\n",
              "        [0., 1., 1., 0., 0., 1., 0., 0., 0., 0., 0., 0., 0., 0.],\n",
              "        [0., 1., 1., 1., 1., 0., 0., 0., 0., 0., 0., 0., 0., 0.],\n",
              "        [0., 0., 0., 0., 0., 0., 0., 0., 0., 0., 0., 0., 0., 0.],\n",
              "        [0., 0., 0., 0., 0., 0., 0., 0., 0., 0., 0., 0., 0., 0.],\n",
              "        [0., 0., 0., 0., 0., 0., 0., 0., 0., 0., 0., 0., 0., 0.],\n",
              "        [0., 0., 0., 0., 0., 0., 0., 0., 0., 0., 0., 0., 0., 0.],\n",
              "        [0., 0., 0., 0., 0., 0., 0., 0., 0., 0., 0., 0., 0., 0.],\n",
              "        [0., 0., 0., 0., 0., 0., 0., 0., 0., 0., 0., 0., 0., 0.],\n",
              "        [0., 0., 0., 0., 0., 0., 0., 0., 0., 0., 0., 0., 0., 0.],\n",
              "        [0., 0., 0., 0., 0., 0., 0., 0., 0., 0., 0., 0., 0., 0.]])]"
            ]
          },
          "execution_count": 29,
          "metadata": {},
          "output_type": "execute_result"
        }
      ],
      "source": [
        "padded_adjacency_matrices[0:5]"
      ]
    },
    {
      "cell_type": "code",
      "execution_count": null,
      "metadata": {},
      "outputs": [],
      "source": []
    }
  ],
  "metadata": {
    "colab": {
      "authorship_tag": "ABX9TyPjvOKtBwp11kuulskbZad2",
      "include_colab_link": true,
      "provenance": []
    },
    "kernelspec": {
      "display_name": "base",
      "language": "python",
      "name": "python3"
    },
    "language_info": {
      "codemirror_mode": {
        "name": "ipython",
        "version": 3
      },
      "file_extension": ".py",
      "mimetype": "text/x-python",
      "name": "python",
      "nbconvert_exporter": "python",
      "pygments_lexer": "ipython3",
      "version": "3.12.2"
    }
  },
  "nbformat": 4,
  "nbformat_minor": 0
}
